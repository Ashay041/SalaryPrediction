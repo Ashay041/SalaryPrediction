{
 "cells": [
  {
   "cell_type": "code",
   "execution_count": null,
   "metadata": {},
   "outputs": [],
   "source": [
    "import numpy as np\n",
    "import pandas as pd\n",
    "import matplotlib.pyplot as plt\n",
    "import seaborn as sns\n",
    "\n",
    "from sklearn.preprocessing import MinMaxScaler\n",
    "from sklearn.preprocessing import StandardScaler\n",
    "import datetime\n",
    "from sklearn import preprocessing\n",
    "sns.set()\n",
    "\n",
    "train = pd.read_csv('F:/fsociety/HACKATHONS/Datawiz/round 2/datawiz19round2/train.csv')\n",
    "test = pd.read_csv('F:/fsociety/HACKATHONS/Datawiz/round 2/datawiz19round2/test.csv')\n",
    "\n",
    "# train.info()"
   ]
  },
  {
   "cell_type": "code",
   "execution_count": null,
   "metadata": {},
   "outputs": [],
   "source": [
    "train.head()"
   ]
  },
  {
   "cell_type": "code",
   "execution_count": null,
   "metadata": {},
   "outputs": [],
   "source": [
    "train.shape"
   ]
  },
  {
   "cell_type": "code",
   "execution_count": null,
   "metadata": {},
   "outputs": [],
   "source": [
    "train.info()"
   ]
  },
  {
   "cell_type": "code",
   "execution_count": null,
   "metadata": {},
   "outputs": [],
   "source": [
    "train.isnull().sum()"
   ]
  },
  {
   "cell_type": "code",
   "execution_count": null,
   "metadata": {},
   "outputs": [],
   "source": [
    "from datetime import datetime\n",
    "train['DOB'] = pd.to_datetime(train.DOB)\n",
    "#train['month'] = train['DOB'].dt.month\n",
    "#train['dayofweek'] = train['DOB'].dt.dayofweek\n",
    "\n",
    "train['year'] = train['DOB'].dt.year\n",
    "#train['day'] = train['DOB'].dt.day\n",
    "train['dayofyear'] = train['DOB'].dt.dayofyear\n",
    "#train['weekofyear'] = train['DOB'].dt.weekofyear"
   ]
  },
  {
   "cell_type": "code",
   "execution_count": null,
   "metadata": {},
   "outputs": [],
   "source": [
    "train.drop(['Id'], axis=1, inplace=True)\n",
    "train.drop(['DOB'], axis=1, inplace=True)\n",
    "train.drop(['employer_url'], axis=1, inplace=True)\n",
    "#train.drop(['employer'], axis=1, inplace=True)\n",
    "#train.drop(['retirement_cost_covered'], axis=1, inplace=True)\n",
    "#train.drop(['location'], axis=1, inplace=True)\n",
    "#train.drop(['pension'], axis=1, inplace=True)"
   ]
  },
  {
   "cell_type": "code",
   "execution_count": null,
   "metadata": {},
   "outputs": [],
   "source": [
    "train.head()"
   ]
  },
  {
   "cell_type": "code",
   "execution_count": null,
   "metadata": {},
   "outputs": [],
   "source": [
    "train['pension']=train['pension'].str.split(expand=True)"
   ]
  },
  {
   "cell_type": "code",
   "execution_count": null,
   "metadata": {},
   "outputs": [],
   "source": [
    "train.head()"
   ]
  },
  {
   "cell_type": "code",
   "execution_count": null,
   "metadata": {},
   "outputs": [],
   "source": [
    "train['lump_sum_pay']=train['lump_sum_pay'].fillna(0)\n",
    "train['location'] = train['location'].fillna('Ahmedabad')\n",
    "train['retirement_cost_covered'] = train['retirement_cost_covered'].fillna(0)\n",
    "train['pension'] = train['pension'].fillna('2.00%')"
   ]
  },
  {
   "cell_type": "code",
   "execution_count": null,
   "metadata": {},
   "outputs": [],
   "source": [
    "train.head(11)"
   ]
  },
  {
   "cell_type": "code",
   "execution_count": null,
   "metadata": {},
   "outputs": [],
   "source": [
    "from sklearn.preprocessing import LabelEncoder,OneHotEncoder\n",
    "labelencoder_X = LabelEncoder()\n",
    "train['employer'] = labelencoder_X.fit_transform(train['employer'])\n",
    "#train['employer_url'] = labelencoder_X.fit_transform(train['employer_url'])\n",
    "train['location'] = labelencoder_X.fit_transform(train['location'])\n",
    "train['pension'] = labelencoder_X.fit_transform(train['pension'])"
   ]
  },
  {
   "cell_type": "code",
   "execution_count": null,
   "metadata": {
    "scrolled": true
   },
   "outputs": [],
   "source": [
    "train.head(11)"
   ]
  },
  {
   "cell_type": "code",
   "execution_count": null,
   "metadata": {},
   "outputs": [],
   "source": [
    "var = 'year'\n",
    "data = pd.concat([train['total_wages'], train[var]], axis=1)\n",
    "f, ax = plt.subplots(figsize=(16, 8))\n",
    "fig = sns.boxplot(x=var, y=\"total_wages\", data=data)\n",
    "fig.axis(ymin=0, ymax=800000);\n",
    "plt.xticks(rotation=90);"
   ]
  },
  {
   "cell_type": "code",
   "execution_count": null,
   "metadata": {},
   "outputs": [],
   "source": [
    "#total_wages > 1l++ k sare uda do...lol"
   ]
  },
  {
   "cell_type": "code",
   "execution_count": null,
   "metadata": {},
   "outputs": [],
   "source": [
    "fig, ax = plt.subplots()\n",
    "fig.set_size_inches(15, 10)\n",
    "sns.heatmap(train.corr(),cmap='coolwarm',ax=ax,annot=True,linewidths=2)\n",
    "#sns.heatmap(train.corr() , annot = True , fmt = 'd')"
   ]
  },
  {
   "cell_type": "raw",
   "metadata": {},
   "source": []
  },
  {
   "cell_type": "code",
   "execution_count": null,
   "metadata": {},
   "outputs": [],
   "source": [
    "y = train[\"total_wages\"]\n",
    "X = train.drop([\"total_wages\"],axis=1)"
   ]
  },
  {
   "cell_type": "code",
   "execution_count": null,
   "metadata": {},
   "outputs": [],
   "source": [
    "train.head()"
   ]
  },
  {
   "cell_type": "code",
   "execution_count": null,
   "metadata": {},
   "outputs": [],
   "source": [
    "from sklearn.model_selection import train_test_split \n",
    "X_train , X_test, y_train, y_test = train_test_split(X,y,test_size=0.2,random_state=0) #stdsca,esti,fulltrain,algo"
   ]
  },
  {
   "cell_type": "code",
   "execution_count": null,
   "metadata": {},
   "outputs": [],
   "source": [
    "from sklearn.ensemble import RandomForestRegressor\n",
    "lr = RandomForestRegressor(random_state=42)\n",
    "lr.fit(X_train,y_train)"
   ]
  },
  {
   "cell_type": "code",
   "execution_count": null,
   "metadata": {},
   "outputs": [],
   "source": [
    "from sklearn.metrics import mean_squared_error\n",
    "from sklearn.metrics import mean_absolute_error\n",
    "from sklearn.metrics import mean_squared_log_error,r2_score\n",
    "y_pred= lr.predict(X_test)\n",
    "r2 = r2_score(y_test, y_pred)\n",
    "mae = mean_absolute_error(y_test, y_pred)\n",
    "mse = mean_squared_error(y_test, y_pred)\n",
    "lmse = mean_squared_log_error(y_test, y_pred)\n",
    "rmse = np.sqrt(mse)\n",
    "lrmse = np.sqrt(lmse)\n",
    "print(\"R2 score:\", r2)\n",
    "print(\"MAE:\", mae)\n",
    "print(\"MSE:\", mse)\n",
    "#print(\"LMSE:\", lmse)\n",
    "print(\"RMSE:\", rmse)\n",
    "#print(\"LRMSE:\", lrmse)                   "
   ]
  },
  {
   "cell_type": "code",
   "execution_count": null,
   "metadata": {},
   "outputs": [],
   "source": [
    "from datetime import datetime\n",
    "test['DOB'] = pd.to_datetime(test.DOB)\n",
    "#test['month'] = test['DOB'].dt.month\n",
    "#test['dayofweek'] = test['DOB'].dt.dayofweek\n",
    "\n",
    "test['year'] = test['DOB'].dt.year\n",
    "#test['day'] = test['DOB'].dt.day\n",
    "test['dayofyear'] = test['DOB'].dt.dayofyear\n",
    "#test['weekofyear'] = test['DOB'].dt.weekofyear"
   ]
  },
  {
   "cell_type": "code",
   "execution_count": null,
   "metadata": {},
   "outputs": [],
   "source": [
    "Id = test['Id']\n",
    "\n",
    "test.drop(['Id'], axis=1, inplace=True)\n",
    "test.drop(['DOB'], axis=1, inplace=True)\n",
    "test.drop(['employer_url'], axis=1, inplace=True)\n",
    "#test.drop(['employer'], axis=1, inplace=True)\n",
    "#test.drop(['retirement_cost_covered'], axis=1, inplace=True)\n",
    "#test.drop(['location'], axis=1, inplace=True)\n",
    "#test.drop(['pension'], axis=1, inplace=True)"
   ]
  },
  {
   "cell_type": "code",
   "execution_count": null,
   "metadata": {},
   "outputs": [],
   "source": [
    "test['pension']=test['pension'].str.split(expand=True)"
   ]
  },
  {
   "cell_type": "code",
   "execution_count": null,
   "metadata": {},
   "outputs": [],
   "source": [
    "test['lump_sum_pay']=test['lump_sum_pay'].fillna(0)\n",
    "test['location'] = test['location'].fillna('Ahmedabad')\n",
    "test['retirement_cost_covered'] = test['retirement_cost_covered'].fillna(0)\n",
    "test['pension'] = test['pension'].fillna('2.00%')"
   ]
  },
  {
   "cell_type": "code",
   "execution_count": null,
   "metadata": {},
   "outputs": [],
   "source": [
    "from sklearn.preprocessing import LabelEncoder,OneHotEncoder\n",
    "labelencoder_X = LabelEncoder()\n",
    "test['employer'] = labelencoder_X.fit_transform(test['employer'])\n",
    "#test['employer_url'] = labelencoder_X.fit_transform(test['employer_url'])\n",
    "test['location'] = labelencoder_X.fit_transform(test['location'])\n",
    "test['pension'] = labelencoder_X.fit_transform(test['pension'])"
   ]
  },
  {
   "cell_type": "code",
   "execution_count": null,
   "metadata": {},
   "outputs": [],
   "source": [
    "prediction_test=lr.predict(test)"
   ]
  },
  {
   "cell_type": "code",
   "execution_count": null,
   "metadata": {},
   "outputs": [],
   "source": [
    "my_solution=pd.DataFrame(prediction_test,Id,columns=[\"total_wages\"])\n",
    "print(my_solution.shape)"
   ]
  },
  {
   "cell_type": "code",
   "execution_count": null,
   "metadata": {},
   "outputs": [],
   "source": [
    "my_solution.to_csv(\"prediction21.csv\",index_label=[\"Id\"])"
   ]
  },
  {
   "cell_type": "code",
   "execution_count": null,
   "metadata": {},
   "outputs": [],
   "source": [
    "my_solution.shape"
   ]
  },
  {
   "cell_type": "code",
   "execution_count": null,
   "metadata": {},
   "outputs": [],
   "source": [
    "my_solution['total_wages'].value_counts()"
   ]
  }
 ],
 "metadata": {
  "kernelspec": {
   "display_name": "Python 3",
   "language": "python",
   "name": "python3"
  },
  "language_info": {
   "codemirror_mode": {
    "name": "ipython",
    "version": 3
   },
   "file_extension": ".py",
   "mimetype": "text/x-python",
   "name": "python",
   "nbconvert_exporter": "python",
   "pygments_lexer": "ipython3",
   "version": "3.6.4"
  }
 },
 "nbformat": 4,
 "nbformat_minor": 2
}
